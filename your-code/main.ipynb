{
 "cells": [
  {
   "cell_type": "markdown",
   "metadata": {},
   "source": [
    "# Probability"
   ]
  },
  {
   "cell_type": "markdown",
   "metadata": {},
   "source": [
    "## Challenge 1\n",
    "There is a box with 10 white balls, 12 red balls and 8 black balls. Calculate the probability of:\n",
    "* Taking a white ball out.\n",
    "* Taking a white ball on first extraction and a black ball out on second extraction without replacing the first one.\n",
    "* Taking a white ball on first extraction and a black ball out on second extraction replacing the first one.\n",
    "* Taking 3 balls and them being all different colours."
   ]
  },
  {
   "cell_type": "code",
   "execution_count": 4,
   "metadata": {},
   "outputs": [
    {
     "data": {
      "text/plain": [
       "0.3333333333333333"
      ]
     },
     "execution_count": 4,
     "metadata": {},
     "output_type": "execute_result"
    }
   ],
   "source": [
    "#1st\n",
    "P1 = 10/30\n",
    "P1"
   ]
  },
  {
   "cell_type": "code",
   "execution_count": 5,
   "metadata": {},
   "outputs": [
    {
     "data": {
      "text/plain": [
       "0.09195402298850575"
      ]
     },
     "execution_count": 5,
     "metadata": {},
     "output_type": "execute_result"
    }
   ],
   "source": [
    "#2nd\n",
    "P2 = 10/30 * 8/29\n",
    "P2"
   ]
  },
  {
   "cell_type": "code",
   "execution_count": 6,
   "metadata": {},
   "outputs": [
    {
     "data": {
      "text/plain": [
       "0.08888888888888888"
      ]
     },
     "execution_count": 6,
     "metadata": {},
     "output_type": "execute_result"
    }
   ],
   "source": [
    "#3rd\n",
    "P3 = 10/30 * 8/30\n",
    "P3"
   ]
  },
  {
   "cell_type": "code",
   "execution_count": 14,
   "metadata": {},
   "outputs": [
    {
     "data": {
      "text/plain": [
       "0.23645320197044337"
      ]
     },
     "execution_count": 14,
     "metadata": {},
     "output_type": "execute_result"
    }
   ],
   "source": [
    "#4th\n",
    "\n",
    "p4whiteredblack = 10/30 * 12/29 * 8/28\n",
    "P4whiteblackred = 10/30 * 8/29 * 12/28\n",
    "\n",
    "P4redwhiteblack = 12/30 * 10/29 * 8/28\n",
    "P4redblackwhite = 12/30 * 8/29 * 10/28\n",
    "\n",
    "P4blackwhitered = 8/30 * 10/29 * 12/28\n",
    "P4blackredwhite = 8/30 * 12/29 * 10/28\n",
    "\n",
    "P4Total = P4whiteredblack + P4whiteblackred + P4redwhiteblack + P4redblackwhite + P4blackwhitered + P4blackredwhite\n",
    "\n",
    "P4Total"
   ]
  },
  {
   "cell_type": "markdown",
   "metadata": {},
   "source": [
    "## Challenge 2\n",
    "\n",
    "You want to go on picnic on Saturday. You hate rain, and would know to plan your weekend. To help you make a decision, you gather the following data about rainy days:\n",
    "\n",
    "* 40% of all days are cloudy.\n",
    "* About 50% of cloudy days are rainy. \n",
    "* About 20% of non-cloudy days are rainy.\n",
    "\n",
    "What is the chance of rain during next Saturday?"
   ]
  },
  {
   "cell_type": "code",
   "execution_count": 19,
   "metadata": {},
   "outputs": [
    {
     "data": {
      "text/plain": [
       "0.32"
      ]
     },
     "execution_count": 19,
     "metadata": {},
     "output_type": "execute_result"
    }
   ],
   "source": [
    "P = 0.4*0.5 + 0.6*0.2\n",
    "P"
   ]
  },
  {
   "cell_type": "markdown",
   "metadata": {},
   "source": [
    "## Challenge 3\n",
    "\n",
    "A and B are events of a probability such that $P(A) = 0.3$, $P(B) = 0.6$ and $P(A \\cap B) = 0.1$\n",
    "\n",
    "Which of the following statements are true?  \n",
    "**HINT: draw a big Venn Diagram by your side**  \n",
    "* $P(\\overline{A}) = 0.7$\n",
    "* $P(A \\cup B) = 0.6$\n",
    "* $P(A \\cap \\overline{B}) = 0.2$\n",
    "* $P(A \\cup \\overline{A}) = 1$  \n",
    "* $P(A \\cap (B \\cup \\overline{B})) = 0.4$\n",
    "* $P(\\overline{A} \\cap \\overline{B}) = 0.3$\n",
    "* $P(\\overline{A \\cap B}) = 0.9$"
   ]
  },
  {
   "cell_type": "code",
   "execution_count": 43,
   "metadata": {},
   "outputs": [
    {
     "name": "stdout",
     "output_type": "stream",
     "text": [
      "Question 1\n",
      "True\n",
      "Question 2\n",
      "0.7999999999999999\n",
      "False\n",
      "Question 3\n",
      "0.12\n",
      "False\n",
      "Question 4\n",
      "1.0\n",
      "True\n",
      "Question 5\n",
      "Union No B = 1, then the Intersection with A is A = 0.3\n",
      "False\n",
      "Question 6\n",
      "0.27999999999999997\n",
      "False\n",
      "Question 7\n",
      "0.8200000000000001\n",
      "False\n"
     ]
    }
   ],
   "source": [
    "print(\"Question 1\")\n",
    "print(True)\n",
    "\n",
    "print(\"Question 2\")\n",
    "PAUB = 0.3 + 0.6 - 0.1\n",
    "print(PAUB)\n",
    "print(False)\n",
    "\n",
    "print(\"Question 3\")\n",
    "PAAB = 0.3 * 0.4\n",
    "print(PAAB)\n",
    "print(False)\n",
    "\n",
    "print(\"Question 4\")\n",
    "PAUCA = 0.3 + 0.7\n",
    "print(PAUCA)\n",
    "print(True)\n",
    "\n",
    "print(\"Question 5\")\n",
    "print(\"Union No B = 1, then the Intersection with A is A = 0.3\")\n",
    "print(False)\n",
    "\n",
    "print(\"Question 6\")\n",
    "PCAACB = 0.7*0.4\n",
    "print(PCAACB)\n",
    "print(False)\n",
    "\n",
    "print(\"Question 7\")\n",
    "PCAUNB = 0.7 + 0.4 - 0.7*0.4\n",
    "print(PCAUNB)\n",
    "print(False)"
   ]
  },
  {
   "cell_type": "markdown",
   "metadata": {},
   "source": [
    "## Challenge 4\n",
    "\n",
    " * If someone flies to China, the probability of getting Covid is 1%  \n",
    " * If someone flies to Italy, the probability of getting Covid is 20%  \n",
    "\n",
    "I roll 1 dice with numbers 1, 2, 3, 4, 5, 6:  \n",
    " * If 1: I fly to Italy\n",
    " * If not 1: I fly to China\n",
    "\n",
    "During my trip, I got Covid. What is the probability that I flew to China?"
   ]
  },
  {
   "cell_type": "code",
   "execution_count": 60,
   "metadata": {},
   "outputs": [],
   "source": [
    "PChina = (0.01*5/6) / (5/6*0.01+1/6*0.2)"
   ]
  },
  {
   "cell_type": "code",
   "execution_count": 61,
   "metadata": {},
   "outputs": [
    {
     "name": "stdout",
     "output_type": "stream",
     "text": [
      "Probability to China = 0.2\n"
     ]
    }
   ],
   "source": [
    "print(f\"Probability to China = {PChina}\")"
   ]
  },
  {
   "cell_type": "markdown",
   "metadata": {},
   "source": [
    "## BONUS\n",
    "\n",
    "You roll 2 dice. What is the probability that the sum of the numbers is 7? And 8? And 9? Then simulate 10000 times and draw a countplot."
   ]
  },
  {
   "cell_type": "markdown",
   "metadata": {},
   "source": [
    "your explanation here"
   ]
  },
  {
   "cell_type": "code",
   "execution_count": 115,
   "metadata": {},
   "outputs": [
    {
     "name": "stdout",
     "output_type": "stream",
     "text": [
      "Probability of 7: 0.14285714285714285\n",
      "Probability of 8: 0.14285714285714285\n",
      "Probability of 9: 0.09523809523809523\n"
     ]
    }
   ],
   "source": [
    "from itertools import combinations_with_replacement\n",
    "\n",
    "Dice = [1,2,3,4,5,6]\n",
    "comb = list(combinations_with_replacement(Dice, 2))\n",
    "\n",
    "seven = []\n",
    "eight=[]\n",
    "nine=[]\n",
    "\n",
    "for i in comb:\n",
    "    if i[0]+i[1] == 7:\n",
    "        seven.append(i)\n",
    "    elif i[0]+i[1] == 8:\n",
    "        eight.append(i)\n",
    "    elif i[0]+i[1] == 9:\n",
    "        nine.append(i)\n",
    "        \n",
    "print(f\"Probability of 7: {len(seven)/len(comb)}\")\n",
    "print(f\"Probability of 8: {len(eight)/len(comb)}\")\n",
    "print(f\"Probability of 9: {len(nine)/len(comb)}\")"
   ]
  },
  {
   "cell_type": "code",
   "execution_count": 127,
   "metadata": {},
   "outputs": [
    {
     "data": {
      "image/png": "[encoded data removed]",
      "text/plain": [
       "<Figure size 432x288 with 1 Axes>"
      ]
     },
     "metadata": {
      "needs_background": "light"
     },
     "output_type": "display_data"
    }
   ],
   "source": [
    "from matplotlib import pyplot as plt\n",
    "import random\n",
    "import seaborn as sns\n",
    "\n",
    "dice = [1, 2, 3, 4, 5, 6]\n",
    "toss = []\n",
    "\n",
    "for i in range(0,10000):\n",
    "    \n",
    "    toss.append(random.choice(dice) + random.choice(dice))\n",
    "\n",
    "sns.countplot(x = toss)\n",
    "plt.show()"
   ]
  }
 ],
 "metadata": {
  "kernelspec": {
   "display_name": "Python 3 (ipykernel)",
   "language": "python",
   "name": "python3"
  },
  "language_info": {
   "codemirror_mode": {
    "name": "ipython",
    "version": 3
   },
   "file_extension": ".py",
   "mimetype": "text/x-python",
   "name": "python",
   "nbconvert_exporter": "python",
   "pygments_lexer": "ipython3",
   "version": "3.10.4"
  },
  "toc": {
   "base_numbering": 1,
   "nav_menu": {},
   "number_sections": false,
   "sideBar": true,
   "skip_h1_title": false,
   "title_cell": "Table of Contents",
   "title_sidebar": "Contents",
   "toc_cell": false,
   "toc_position": {
    "height": "calc(100% - 180px)",
    "left": "10px",
    "top": "150px",
    "width": "296.475px"
   },
   "toc_section_display": true,
   "toc_window_display": false
  },
  "varInspector": {
   "cols": {
    "lenName": 16,
    "lenType": 16,
    "lenVar": 40
   },
   "kernels_config": {
    "python": {
     "delete_cmd_postfix": "",
     "delete_cmd_prefix": "del ",
     "library": "var_list.py",
     "varRefreshCmd": "print(var_dic_list())"
    },
    "r": {
     "delete_cmd_postfix": ") ",
     "delete_cmd_prefix": "rm(",
     "library": "var_list.r",
     "varRefreshCmd": "cat(var_dic_list()) "
    }
   },
   "types_to_exclude": [
    "module",
    "function",
    "builtin_function_or_method",
    "instance",
    "_Feature"
   ],
   "window_display": false
  }
 },
 "nbformat": 4,
 "nbformat_minor": 2
}
