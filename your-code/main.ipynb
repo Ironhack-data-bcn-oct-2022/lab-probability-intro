{
 "cells": [
  {
   "cell_type": "markdown",
   "metadata": {},
   "source": [
    "# Probability"
   ]
  },
  {
   "cell_type": "markdown",
   "metadata": {},
   "source": [
    "## Challenge 1\n",
    "There is a box with 10 white balls, 12 red balls and 8 black balls. Calculate the probability of:\n",
    "* Taking a white ball out.\n",
    "* Taking a white ball on first extraction and a black ball out on second extraction without replacing the first one.\n",
    "* Taking a white ball on first extraction and a black ball out on second extraction replacing the first one.\n",
    "* Taking 3 balls and them being all different colours."
   ]
  },
  {
   "cell_type": "code",
   "execution_count": 4,
   "metadata": {},
   "outputs": [],
   "source": [
    "white = 10\n",
    "red = 12\n",
    "black = 8\n",
    "total = white + red + black"
   ]
  },
  {
   "cell_type": "code",
   "execution_count": 6,
   "metadata": {},
   "outputs": [
    {
     "data": {
      "text/plain": [
       "0.3333333333333333"
      ]
     },
     "execution_count": 6,
     "metadata": {},
     "output_type": "execute_result"
    }
   ],
   "source": [
    "# Taking a white ball out\n",
    "p = white/total\n",
    "p"
   ]
  },
  {
   "cell_type": "code",
   "execution_count": 7,
   "metadata": {},
   "outputs": [
    {
     "data": {
      "text/plain": [
       "0.09195402298850575"
      ]
     },
     "execution_count": 7,
     "metadata": {},
     "output_type": "execute_result"
    }
   ],
   "source": [
    "# Taking a white ball on first extraction and a black ball out on second extraction without replacing the first one\n",
    "p = white/total * black/(total-1)\n",
    "p"
   ]
  },
  {
   "cell_type": "code",
   "execution_count": 8,
   "metadata": {},
   "outputs": [
    {
     "data": {
      "text/plain": [
       "0.08888888888888888"
      ]
     },
     "execution_count": 8,
     "metadata": {},
     "output_type": "execute_result"
    }
   ],
   "source": [
    "# Taking a white ball on first extraction and a black ball out on second extraction replacing the first one.\n",
    "p = white/total * black/total\n",
    "p"
   ]
  },
  {
   "cell_type": "code",
   "execution_count": 32,
   "metadata": {},
   "outputs": [
    {
     "name": "stdout",
     "output_type": "stream",
     "text": [
      "('W', 'R', 'B')\n",
      "('W', 'B', 'R')\n",
      "('R', 'W', 'B')\n",
      "('R', 'B', 'W')\n",
      "('B', 'W', 'R')\n",
      "('B', 'R', 'W')\n"
     ]
    },
    {
     "data": {
      "text/plain": [
       "0.23645320197044334"
      ]
     },
     "execution_count": 32,
     "metadata": {},
     "output_type": "execute_result"
    }
   ],
   "source": [
    "# Taking 3 balls and them being all different colours.\n",
    "\n",
    "# Balls can be drawn in different order: permutations\n",
    "\n",
    "from itertools import permutations \n",
    "perm = permutations([\"W\", \"R\", \"B\"]) \n",
    "for i in perm: \n",
    "    print (i)\n",
    "\n",
    "# Total of possible permutations with three colors = 6\n",
    "# The prob of getting three of different colors without replacement needs to be multipllied by 6\n",
    "\n",
    "p = ( white/total * red/(total-1) * black/(total-2) ) * 6\n",
    "p"
   ]
  },
  {
   "cell_type": "markdown",
   "metadata": {},
   "source": [
    "## Challenge 2\n",
    "\n",
    "You want to go on picnic on Saturday. You hate rain, and would know to plan your weekend. To help you make a decision, you gather the following data about rainy days:\n",
    "\n",
    "* 40% of all days are cloudy.\n",
    "* About 50% of cloudy days are rainy. \n",
    "* About 20% of non-cloudy days are rainy.\n",
    "\n",
    "What is the chance of rain during next Saturday?"
   ]
  },
  {
   "cell_type": "code",
   "execution_count": 11,
   "metadata": {},
   "outputs": [
    {
     "data": {
      "text/plain": [
       "0.32"
      ]
     },
     "execution_count": 11,
     "metadata": {},
     "output_type": "execute_result"
    }
   ],
   "source": [
    "p_cloudy_rainy = (0.5 * 0.4)\n",
    "p_nocloudy_rainy = (0.2 * 0.6)\n",
    "p_rainy = p_cloudy_rainy + p_nocloudy_rainy\n",
    "p_rainy"
   ]
  },
  {
   "cell_type": "markdown",
   "metadata": {},
   "source": [
    "## Challenge 3\n",
    "\n",
    "A and B are events of a probability such that $P(A) = 0.3$, $P(B) = 0.6$ and $P(A \\cap B) = 0.1$\n",
    "\n",
    "Which of the following statements are true?  \n",
    "**HINT: draw a big Venn Diagram by your side**  \n",
    "* $P(\\overline{A}) = 0.7$\n",
    "* $P(A \\cup B) = 0.6$\n",
    "* $P(A \\cap \\overline{B}) = 0.2$\n",
    "* $P(A \\cup \\overline{A}) = 1$  \n",
    "* $P(A \\cap (B \\cup \\overline{B})) = 0.4$\n",
    "* $P(\\overline{A} \\cap \\overline{B}) = 0.3$\n",
    "* $P(\\overline{A \\cap B}) = 0.9$"
   ]
  },
  {
   "cell_type": "code",
   "execution_count": 15,
   "metadata": {},
   "outputs": [
    {
     "data": {
      "text/plain": [
       "0.7"
      ]
     },
     "execution_count": 15,
     "metadata": {},
     "output_type": "execute_result"
    }
   ],
   "source": [
    "#1) True\n",
    "# 1 - P(A)\n",
    "1 - 0.3"
   ]
  },
  {
   "cell_type": "code",
   "execution_count": 16,
   "metadata": {},
   "outputs": [
    {
     "data": {
      "text/plain": [
       "0.7999999999999999"
      ]
     },
     "execution_count": 16,
     "metadata": {},
     "output_type": "execute_result"
    }
   ],
   "source": [
    "#2) False\n",
    "# P(A) + P(B) - P(A n B)\n",
    "0.3 + 0.6 - 0.1"
   ]
  },
  {
   "cell_type": "code",
   "execution_count": 18,
   "metadata": {},
   "outputs": [
    {
     "data": {
      "text/plain": [
       "0.12"
      ]
     },
     "execution_count": 18,
     "metadata": {},
     "output_type": "execute_result"
    }
   ],
   "source": [
    "#3) False\n",
    "# P(A) * (1 - P(B))\n",
    "0.3 * (1 - 0.6)"
   ]
  },
  {
   "cell_type": "code",
   "execution_count": 19,
   "metadata": {},
   "outputs": [
    {
     "data": {
      "text/plain": [
       "1.0"
      ]
     },
     "execution_count": 19,
     "metadata": {},
     "output_type": "execute_result"
    }
   ],
   "source": [
    "#4) True\n",
    "# P(A) + (1 - P(A)) - 0 , intersection of A and no_A is 0\n",
    "0.3 + (1 - 0.3) - 0"
   ]
  },
  {
   "cell_type": "code",
   "execution_count": 21,
   "metadata": {},
   "outputs": [
    {
     "data": {
      "text/plain": [
       "0.3"
      ]
     },
     "execution_count": 21,
     "metadata": {},
     "output_type": "execute_result"
    }
   ],
   "source": [
    "#5) False\n",
    "# P(A) * [ P(B) + (1 - P(B)) - 0 ]\n",
    "0.3 * (0.6 + (1 - 0.6) - 0)"
   ]
  },
  {
   "cell_type": "code",
   "execution_count": 23,
   "metadata": {},
   "outputs": [
    {
     "data": {
      "text/plain": [
       "0.27999999999999997"
      ]
     },
     "execution_count": 23,
     "metadata": {},
     "output_type": "execute_result"
    }
   ],
   "source": [
    "#6) False\n",
    "# (1 - P(A)) * (1 - P(B))\n",
    "(1 - 0.3) * (1 - 0.6)"
   ]
  },
  {
   "cell_type": "code",
   "execution_count": 25,
   "metadata": {},
   "outputs": [
    {
     "data": {
      "text/plain": [
       "0.9"
      ]
     },
     "execution_count": 25,
     "metadata": {},
     "output_type": "execute_result"
    }
   ],
   "source": [
    "#7) True\n",
    "# 1 - P(A n B)\n",
    "1 - 0.1\n",
    "\n",
    "# 1 - P(A)*P(B) = 1 - 0.3*0.6 = 0.82 -> False?"
   ]
  },
  {
   "cell_type": "markdown",
   "metadata": {},
   "source": [
    "## Challenge 4\n",
    "\n",
    " * If someone flies to China, the probability of getting Covid is 1%  \n",
    " * If someone flies to Italy, the probability of getting Covid is 20%  \n",
    "\n",
    "I roll 1 dice with numbers 1, 2, 3, 4, 5, 6:  \n",
    " * If 1: I fly to Italy\n",
    " * If not 1: I fly to China\n",
    "\n",
    "During my trip, I got Covid. What is the probability that I flew to China?"
   ]
  },
  {
   "cell_type": "code",
   "execution_count": 27,
   "metadata": {},
   "outputs": [
    {
     "data": {
      "text/plain": [
       "0.2"
      ]
     },
     "execution_count": 27,
     "metadata": {},
     "output_type": "execute_result"
    }
   ],
   "source": [
    "# P(china|covid) = P(china n covid) / P(covid) = P(covid|china)*P(china) / P(covid)\n",
    "p_china_covid = 0.01 * (5/6)\n",
    "p_covid = (0.01)*(5/6) + (0.2)*(1/6)\n",
    "p = p_china_covid / p_covid\n",
    "p"
   ]
  },
  {
   "cell_type": "markdown",
   "metadata": {},
   "source": [
    "## BONUS\n",
    "\n",
    "You roll 2 dice. What is the probability that the sum of the numbers is 7? And 8? And 9? Then simulate 10000 times and draw a countplot."
   ]
  },
  {
   "cell_type": "markdown",
   "metadata": {},
   "source": [
    "your explanation here"
   ]
  },
  {
   "cell_type": "code",
   "execution_count": null,
   "metadata": {},
   "outputs": [],
   "source": [
    "# The probability will be: the number of times the sum is 7 divided by the total number of combinations with two dice."
   ]
  },
  {
   "cell_type": "code",
   "execution_count": 33,
   "metadata": {},
   "outputs": [
    {
     "name": "stdout",
     "output_type": "stream",
     "text": [
      "(1, 1)\n",
      "(1, 2)\n",
      "(1, 3)\n",
      "(1, 4)\n",
      "(1, 5)\n",
      "(1, 6)\n",
      "(2, 2)\n",
      "(2, 3)\n",
      "(2, 4)\n",
      "(2, 5)\n",
      "(2, 6)\n",
      "(3, 3)\n",
      "(3, 4)\n",
      "(3, 5)\n",
      "(3, 6)\n",
      "(4, 4)\n",
      "(4, 5)\n",
      "(4, 6)\n",
      "(5, 5)\n",
      "(5, 6)\n",
      "(6, 6)\n"
     ]
    }
   ],
   "source": [
    "from itertools import combinations_with_replacement\n",
    "\n",
    "two_rolls = combinations_with_replacement([1,2,3,4,5,6], 2)\n",
    "\n",
    "# These are all the combinations when rolling two dices\n",
    "\n",
    "for i in two_rolls:\n",
    "    print(i)"
   ]
  },
  {
   "cell_type": "code",
   "execution_count": 43,
   "metadata": {},
   "outputs": [
    {
     "data": {
      "text/plain": [
       "21"
      ]
     },
     "execution_count": 43,
     "metadata": {},
     "output_type": "execute_result"
    }
   ],
   "source": [
    "two_rolls = combinations_with_replacement([1,2,3,4,5,6], 2)\n",
    "\n",
    "all_combinations = []\n",
    "for i in two_rolls:\n",
    "    all_combinations.append(i)\n",
    "\n",
    "# This is the total number of combinations\n",
    "\n",
    "len(all_combinations)"
   ]
  },
  {
   "cell_type": "code",
   "execution_count": 46,
   "metadata": {},
   "outputs": [
    {
     "name": "stdout",
     "output_type": "stream",
     "text": [
      "probability sum of the numbers is 7: 0.14285714285714285\n",
      "probability sum of the numbers is 7: 0.14285714285714285\n",
      "probability sum of the numbers is 7: 0.09523809523809523\n"
     ]
    }
   ],
   "source": [
    "two_rolls = combinations_with_replacement([1,2,3,4,5,6], 2)\n",
    "\n",
    "# Create counters for each sum\n",
    "\n",
    "count_sum_7 = 0\n",
    "count_sum_8 = 0\n",
    "count_sum_9 = 0\n",
    "\n",
    "# Add +1 to the counter when the sum of the two dices equals 7 / 8 / 9:\n",
    "\n",
    "for i in two_rolls:\n",
    "    if i[0] + i[1] == 7:\n",
    "        # To get the number of times the sum == 7\n",
    "        count_sum_7 += 1\n",
    "        \n",
    "    if i[0] + i[1] == 8:\n",
    "        count_sum_8 += 1\n",
    "        \n",
    "    if i[0] + i[1] == 9:\n",
    "        count_sum_9 += 1\n",
    "\n",
    "print(\"probability sum of the numbers is 7:\", count_sum_7/len(all_combinations))\n",
    "print(\"probability sum of the numbers is 7:\", count_sum_8/len(all_combinations))\n",
    "print(\"probability sum of the numbers is 7:\", count_sum_9/len(all_combinations))"
   ]
  },
  {
   "cell_type": "markdown",
   "metadata": {},
   "source": [
    "**Simulation of 10000 times**"
   ]
  },
  {
   "cell_type": "code",
   "execution_count": 120,
   "metadata": {},
   "outputs": [
    {
     "name": "stdout",
     "output_type": "stream",
     "text": [
      "Result of rolling the dice one time: [(3, 3)]\n"
     ]
    }
   ],
   "source": [
    "import random\n",
    "\n",
    "# Get all the possible combinations when rolling 2 dice\n",
    "two_rolls = combinations_with_replacement([1,2,3,4,5,6], 2)\n",
    "\n",
    "# Store them in a list\n",
    "all_combinations = []\n",
    "for i in two_rolls:\n",
    "    all_combinations.append(i)\n",
    "\n",
    "# Every time we roll the 2 dice we get a different combination:\n",
    "two_rolls_onetime = random.choices(all_combinations, k = 1)\n",
    "print(\"Result of rolling the dice one time:\", two_rolls_onetime)"
   ]
  },
  {
   "cell_type": "code",
   "execution_count": 121,
   "metadata": {},
   "outputs": [
    {
     "name": "stdout",
     "output_type": "stream",
     "text": [
      "[3, 5, 10, 6, 10, 8, 7, 12, 5, 7, 9, 8, 10, 8, 8, 7, 9, 6, 12, 6]\n"
     ]
    }
   ],
   "source": [
    "# If we roll 10000 times:\n",
    "two_rolls_manytimes = random.choices(all_combinations, k = 10000)\n",
    "\n",
    "# Each time we roll (in this case 10000 times), we want to sum the values of the two dice.\n",
    "\n",
    "# Create a list to store the sums:\n",
    "store_sum = []\n",
    "\n",
    "for i in two_rolls_manytimes:\n",
    "    store_sum.append(i[0] + i[1])\n",
    "\n",
    "print(store_sum[:20])"
   ]
  },
  {
   "cell_type": "code",
   "execution_count": 122,
   "metadata": {},
   "outputs": [
    {
     "data": {
      "text/plain": [
       "<AxesSubplot:ylabel='count'>"
      ]
     },
     "execution_count": 122,
     "metadata": {},
     "output_type": "execute_result"
    },
    {
     "data": {
      "image/png": "[encoded data removed]",
      "text/plain": [
       "<Figure size 640x480 with 1 Axes>"
      ]
     },
     "metadata": {},
     "output_type": "display_data"
    }
   ],
   "source": [
    "# Now we plot this sums:\n",
    "\n",
    "import seaborn as sns\n",
    "\n",
    "sns.countplot (x = store_sum)"
   ]
  }
 ],
 "metadata": {
  "kernelspec": {
   "display_name": "Python 3 (ipykernel)",
   "language": "python",
   "name": "python3"
  },
  "language_info": {
   "codemirror_mode": {
    "name": "ipython",
    "version": 3
   },
   "file_extension": ".py",
   "mimetype": "text/x-python",
   "name": "python",
   "nbconvert_exporter": "python",
   "pygments_lexer": "ipython3",
   "version": "3.9.13"
  },
  "toc": {
   "base_numbering": 1,
   "nav_menu": {},
   "number_sections": false,
   "sideBar": true,
   "skip_h1_title": false,
   "title_cell": "Table of Contents",
   "title_sidebar": "Contents",
   "toc_cell": false,
   "toc_position": {
    "height": "calc(100% - 180px)",
    "left": "10px",
    "top": "150px",
    "width": "296.475px"
   },
   "toc_section_display": true,
   "toc_window_display": false
  },
  "varInspector": {
   "cols": {
    "lenName": 16,
    "lenType": 16,
    "lenVar": 40
   },
   "kernels_config": {
    "python": {
     "delete_cmd_postfix": "",
     "delete_cmd_prefix": "del ",
     "library": "var_list.py",
     "varRefreshCmd": "print(var_dic_list())"
    },
    "r": {
     "delete_cmd_postfix": ") ",
     "delete_cmd_prefix": "rm(",
     "library": "var_list.r",
     "varRefreshCmd": "cat(var_dic_list()) "
    }
   },
   "types_to_exclude": [
    "module",
    "function",
    "builtin_function_or_method",
    "instance",
    "_Feature"
   ],
   "window_display": false
  }
 },
 "nbformat": 4,
 "nbformat_minor": 2
}
