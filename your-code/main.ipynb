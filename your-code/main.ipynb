{
 "cells": [
  {
   "cell_type": "markdown",
   "metadata": {},
   "source": [
    "# Probability"
   ]
  },
  {
   "cell_type": "markdown",
   "metadata": {},
   "source": [
    "## Challenge 1\n",
    "There is a box with 10 white balls, 12 red balls and 8 black balls. Calculate the probability of:\n",
    "* Taking a white ball out.\n",
    "* Taking a white ball on first extraction and a black ball out on second extraction without replacing the first one.\n",
    "* Taking a white ball on first extraction and a black ball out on second extraction replacing the first one.\n",
    "* Taking 3 balls and them being all different colours."
   ]
  },
  {
   "cell_type": "code",
   "execution_count": 11,
   "metadata": {},
   "outputs": [
    {
     "name": "stdout",
     "output_type": "stream",
     "text": [
      "Take a white ball: 0.3333333333333333\n",
      "Take white ball and then black ball: 0.09195402298850575\n",
      "Take white ball and then black ball (replacing): 0.08888888888888888\n"
     ]
    }
   ],
   "source": [
    "total_balls = 10 + 12 + 8\n",
    "W = 10\n",
    "R = 12\n",
    "B = 8\n",
    "print(f\"Take a white ball: {10/total_balls}\")\n",
    "print(f\"Take white ball and then black ball: {(10/total_balls)*(8/(total_balls-1))}\")\n",
    "print(f\"Take white ball and then black ball (replacing): {(10/total_balls)*(8/(total_balls))}\")\n"
   ]
  },
  {
   "cell_type": "code",
   "execution_count": 12,
   "metadata": {},
   "outputs": [
    {
     "name": "stdout",
     "output_type": "stream",
     "text": [
      "('W', 'B', 'R')\n",
      "('W', 'R', 'B')\n",
      "('B', 'W', 'R')\n",
      "('B', 'R', 'W')\n",
      "('R', 'W', 'B')\n",
      "('R', 'B', 'W')\n"
     ]
    }
   ],
   "source": [
    "balls = [\"W\",\"B\",\"R\"]\n",
    "from itertools import permutations \n",
    "perm = permutations(balls, 3)\n",
    "for i in list(perm): \n",
    "    print (i) "
   ]
  },
  {
   "cell_type": "code",
   "execution_count": 14,
   "metadata": {},
   "outputs": [
    {
     "name": "stdout",
     "output_type": "stream",
     "text": [
      "Probability of taking 3 balls and them being all different colours0.23645320197044337\n"
     ]
    }
   ],
   "source": [
    "p1 = (W/total_balls)*(B/(total_balls-1))*(R/(total_balls-2))\n",
    "p2 = (W/total_balls)*(R/(total_balls-1))*(B/(total_balls-2))\n",
    "p3 = (B/total_balls)*(W/(total_balls-1))*(R/(total_balls-2))\n",
    "p4 = (B/total_balls)*(R/(total_balls-1))*(W/(total_balls-2))\n",
    "p5 = (R/total_balls)*(W/(total_balls-1))*(B/(total_balls-2))\n",
    "p6 = (R/total_balls)*(B/(total_balls-1))*(W/(total_balls-2))\n",
    "print(f\"Probability of taking 3 balls and them being all different colours{p1+p2+p3+p4+p5+p6}\")"
   ]
  },
  {
   "cell_type": "markdown",
   "metadata": {},
   "source": [
    "## Challenge 2\n",
    "\n",
    "You want to go on picnic on Saturday. You hate rain, and would know to plan your weekend. To help you make a decision, you gather the following data about rainy days:\n",
    "\n",
    "* 40% of all days are cloudy.\n",
    "* About 50% of cloudy days are rainy. \n",
    "* About 20% of non-cloudy days are rainy.\n",
    "\n",
    "What is the chance of rain during next Saturday?"
   ]
  },
  {
   "cell_type": "code",
   "execution_count": 4,
   "metadata": {},
   "outputs": [
    {
     "name": "stdout",
     "output_type": "stream",
     "text": [
      "the probability to rain is: 32.0%\n"
     ]
    }
   ],
   "source": [
    "\"\"\"\n",
    "your solution here\n",
    "\n",
    "\"\"\"\n",
    "print(f\"the probability to rain is: {((40/100)*(50/100)+(60/100)*(20/100))*100}%\")"
   ]
  },
  {
   "cell_type": "markdown",
   "metadata": {},
   "source": [
    "## Challenge 3\n",
    "\n",
    "A and B are events of a probability such that $P(A) = 0.3$, $P(B) = 0.6$ and $P(A \\cap B) = 0.1$\n",
    "\n",
    "Which of the following statements are true?  \n",
    "**HINT: draw a big Venn Diagram by your side**  \n",
    "* $P(\\overline{A}) = 0.7$\n",
    "* $P(A \\cup B) = 0.6$\n",
    "* $P(A \\cap \\overline{B}) = 0.2$\n",
    "* $P(A \\cup \\overline{A}) = 1$  \n",
    "* $P(A \\cap (B \\cup \\overline{B})) = 0.4$\n",
    "* $P(\\overline{A} \\cap \\overline{B}) = 0.3$\n",
    "* $P(\\overline{A \\cap B}) = 0.9$"
   ]
  },
  {
   "cell_type": "markdown",
   "metadata": {},
   "source": [
    "* $P(\\overline{A}) = 0.7$ *True*\n",
    "* $P(A \\cup B) = 0.6$ *False* 0.9\n",
    "* $P(A \\cap \\overline{B}) = 0.2$ *False* 0.72\n",
    "* $P(A \\cup \\overline{A}) = 1$  *True* \n",
    "* $P(A \\cap (B \\cup \\overline{B})) = 0.4$ *False* 0.3\n",
    "* $P(\\overline{A} \\cap \\overline{B}) = 0.3$ *False* 0.28\n",
    "* $P(\\overline{A \\cap B}) = 0.9$ *False* 0.82"
   ]
  },
  {
   "cell_type": "markdown",
   "metadata": {},
   "source": [
    "## Challenge 4\n",
    "\n",
    " * If someone flies to China, the probability of getting Covid is 1%  \n",
    " * If someone flies to Italy, the probability of getting Covid is 20%  \n",
    "\n",
    "I roll 1 dice with numbers 1, 2, 3, 4, 5, 6:  \n",
    " * If 1: I fly to Italy\n",
    " * If not 1: I fly to China\n",
    "\n",
    "During my trip, I got Covid. What is the probability that I flew to China?"
   ]
  },
  {
   "cell_type": "code",
   "execution_count": 6,
   "metadata": {},
   "outputs": [
    {
     "name": "stdout",
     "output_type": "stream",
     "text": [
      "The probability that I flew to China if I got Covid: 0.010100000000000001\n"
     ]
    }
   ],
   "source": [
    "china = 1/6\n",
    "italy = 5/6\n",
    "p_ch_cv = 1/100\n",
    "get_covid = (1/6)*(1/100) + (5/6)*(20/100)\n",
    "print(f\"The probability that I flew to China if I got Covid: {(p_ch_cv*get_covid)/china}\")"
   ]
  },
  {
   "cell_type": "markdown",
   "metadata": {},
   "source": [
    "## BONUS\n",
    "\n",
    "You roll 2 dice. What is the probability that the sum of the numbers is 7? And 8? And 9? Then simulate 10000 times and draw a countplot."
   ]
  },
  {
   "cell_type": "markdown",
   "metadata": {},
   "source": [
    "your explanation here"
   ]
  },
  {
   "cell_type": "code",
   "execution_count": null,
   "metadata": {},
   "outputs": [],
   "source": [
    "# your code here"
   ]
  },
  {
   "cell_type": "code",
   "execution_count": null,
   "metadata": {},
   "outputs": [],
   "source": [
    "\"\"\"\n",
    "your solution here\n",
    "\"\"\""
   ]
  }
 ],
 "metadata": {
  "kernelspec": {
   "display_name": "Python 3 (ipykernel)",
   "language": "python",
   "name": "python3"
  },
  "language_info": {
   "codemirror_mode": {
    "name": "ipython",
    "version": 3
   },
   "file_extension": ".py",
   "mimetype": "text/x-python",
   "name": "python",
   "nbconvert_exporter": "python",
   "pygments_lexer": "ipython3",
   "version": "3.9.13"
  },
  "toc": {
   "base_numbering": 1,
   "nav_menu": {},
   "number_sections": false,
   "sideBar": true,
   "skip_h1_title": false,
   "title_cell": "Table of Contents",
   "title_sidebar": "Contents",
   "toc_cell": false,
   "toc_position": {
    "height": "calc(100% - 180px)",
    "left": "10px",
    "top": "150px",
    "width": "296.475px"
   },
   "toc_section_display": true,
   "toc_window_display": false
  },
  "varInspector": {
   "cols": {
    "lenName": 16,
    "lenType": 16,
    "lenVar": 40
   },
   "kernels_config": {
    "python": {
     "delete_cmd_postfix": "",
     "delete_cmd_prefix": "del ",
     "library": "var_list.py",
     "varRefreshCmd": "print(var_dic_list())"
    },
    "r": {
     "delete_cmd_postfix": ") ",
     "delete_cmd_prefix": "rm(",
     "library": "var_list.r",
     "varRefreshCmd": "cat(var_dic_list()) "
    }
   },
   "types_to_exclude": [
    "module",
    "function",
    "builtin_function_or_method",
    "instance",
    "_Feature"
   ],
   "window_display": false
  }
 },
 "nbformat": 4,
 "nbformat_minor": 2
}
